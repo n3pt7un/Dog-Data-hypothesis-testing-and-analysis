{
 "cells": [
  {
   "cell_type": "code",
   "execution_count": 1,
   "id": "37d6587c-8454-41b4-8c76-289c1cc5c645",
   "metadata": {},
   "outputs": [
    {
     "name": "stdout",
     "output_type": "stream",
     "text": [
      "4.2361 2.0647536874891395\n",
      "BinomTestResult(k=6, n=100, alternative='two-sided', proportion_estimate=0.06, pvalue=0.5811780106238107)\n",
      "Based on the ANOVA test ran, there is significance to say that the weights are not the same.\n",
      "  Multiple Comparison of Means - Tukey HSD, FWER=0.05  \n",
      "=======================================================\n",
      " group1  group2 meandiff p-adj   lower    upper  reject\n",
      "-------------------------------------------------------\n",
      "pitbull terrier   -13.24    0.0 -16.7278 -9.7522   True\n",
      "pitbull whippet    -3.34 0.0638  -6.8278  0.1478  False\n",
      "terrier whippet      9.9    0.0   6.4122 13.3878   True\n",
      "-------------------------------------------------------\n",
      "0.005302408293244593\n"
     ]
    }
   ],
   "source": [
    "import numpy as np\n",
    "import pandas as pd\n",
    "import fetchmaker\n",
    "from scipy.stats import binom_test, binomtest\n",
    "from statsmodels.stats.multicomp import pairwise_tukeyhsd\n",
    "from scipy.stats import f_oneway\n",
    "from scipy.stats import chi2_contingency \n",
    "\n",
    "rottweiler_tl = fetchmaker.get_tail_length('rottweiler')\n",
    "print(np.mean(rottweiler_tl), np.std(rottweiler_tl))\n",
    "\n",
    "whippet_rescue = fetchmaker.get_is_rescue('whippet')\n",
    "num_whippet_rescues = np.count_nonzero(whippet_rescue)\n",
    "num_whippets = np.size(whippet_rescue)\n",
    "pval_whippets = binomtest(num_whippet_rescues, num_whippets, 0.08)\n",
    "print(pval_whippets)\n",
    "\n",
    "\n",
    "whippet_weight = fetchmaker.get_weight('whippet')\n",
    "terrier_weight = fetchmaker.get_weight('terrier')\n",
    "pitbull_weight = fetchmaker.get_weight('pitbull')\n",
    "weights = np.concatenate([whippet_weight, terrier_weight, pitbull_weight])\n",
    "weights_labels = ['whippet'] * len(whippet_weight) + ['terrier'] * len(terrier_weight) + ['pitbull'] * len(pitbull_weight)\n",
    "Ftest, pval_weight = f_oneway(whippet_weight, terrier_weight, pitbull_weight)\n",
    "weight_result = pairwise_tukeyhsd(weights, weights_labels, 0.05)\n",
    "\n",
    "if pval_weight < 0.05:\n",
    "  print('Based on the ANOVA test ran, there is significance to say that the weights are not the same.')\n",
    "else: \n",
    "  print('Based on the ANOVA test ran there is no proof that the weights are substanstially different.')\n",
    "\n",
    "print(weight_result)\n",
    "\n",
    "\n",
    "poodle_colors = fetchmaker.get_color('poodle')\n",
    "shihtzu_colors = fetchmaker.get_color('shihtzu')\n",
    "\n",
    "color_table = pd.DataFrame({ \n",
    "'Poodle' : [np.count_nonzero(poodle_colors == \"black\"), np.count_nonzero(poodle_colors == \"brown\"), np.count_nonzero(poodle_colors == \"gold\"), np.count_nonzero(poodle_colors == \"grey\"), np.count_nonzero(poodle_colors == \"white\")],\n",
    "'Shih_Tzu': [np.count_nonzero(shihtzu_colors == \"black\"), np.count_nonzero(shihtzu_colors == \"brown\"), np.count_nonzero(shihtzu_colors == \"gold\"), np.count_nonzero(shihtzu_colors == \"grey\"), np.count_nonzero(shihtzu_colors == \"white\")]})\n",
    "\n",
    "_, pval_col, _, _ = chi2_contingency(color_table)\n",
    "print(pval_col)\n",
    "\n",
    "\n",
    "\n"
   ]
  },
  {
   "cell_type": "code",
   "execution_count": null,
   "id": "794ec81a-5f37-4a4f-a9df-72857ec1f51d",
   "metadata": {},
   "outputs": [],
   "source": []
  }
 ],
 "metadata": {
  "kernelspec": {
   "display_name": "Python 3 (ipykernel)",
   "language": "python",
   "name": "python3"
  },
  "language_info": {
   "codemirror_mode": {
    "name": "ipython",
    "version": 3
   },
   "file_extension": ".py",
   "mimetype": "text/x-python",
   "name": "python",
   "nbconvert_exporter": "python",
   "pygments_lexer": "ipython3",
   "version": "3.9.13"
  }
 },
 "nbformat": 4,
 "nbformat_minor": 5
}
